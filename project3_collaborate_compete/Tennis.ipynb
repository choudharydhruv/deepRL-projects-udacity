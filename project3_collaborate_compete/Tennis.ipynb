{
 "cells": [
  {
   "cell_type": "markdown",
   "metadata": {},
   "source": [
    "# Collaboration and Competition\n",
    "\n",
    "---\n",
    "\n",
    "In this notebook, you will learn how to use the Unity ML-Agents environment for the third project of the [Deep Reinforcement Learning Nanodegree](https://www.udacity.com/course/deep-reinforcement-learning-nanodegree--nd893) program.\n",
    "\n",
    "### 1. Start the Environment\n",
    "\n",
    "We begin by importing the necessary packages.  If the code cell below returns an error, please revisit the project instructions to double-check that you have installed [Unity ML-Agents](https://github.com/Unity-Technologies/ml-agents/blob/master/docs/Installation.md) and [NumPy](http://www.numpy.org/)."
   ]
  },
  {
   "cell_type": "code",
   "execution_count": 1,
   "metadata": {},
   "outputs": [],
   "source": [
    "import torch\n",
    "import numpy as np\n",
    "from collections import deque\n",
    "import matplotlib.pyplot as plt\n",
    "%matplotlib inline\n",
    "\n",
    "from unityagents import UnityEnvironment\n",
    "from maddpg_agent import Agent, ReplayBuffer"
   ]
  },
  {
   "cell_type": "markdown",
   "metadata": {},
   "source": [
    "Next, we will start the environment!  **_Before running the code cell below_**, change the `file_name` parameter to match the location of the Unity environment that you downloaded.\n",
    "\n",
    "- **Mac**: `\"path/to/Tennis.app\"`\n",
    "- **Windows** (x86): `\"path/to/Tennis_Windows_x86/Tennis.exe\"`\n",
    "- **Windows** (x86_64): `\"path/to/Tennis_Windows_x86_64/Tennis.exe\"`\n",
    "- **Linux** (x86): `\"path/to/Tennis_Linux/Tennis.x86\"`\n",
    "- **Linux** (x86_64): `\"path/to/Tennis_Linux/Tennis.x86_64\"`\n",
    "- **Linux** (x86, headless): `\"path/to/Tennis_Linux_NoVis/Tennis.x86\"`\n",
    "- **Linux** (x86_64, headless): `\"path/to/Tennis_Linux_NoVis/Tennis.x86_64\"`\n",
    "\n",
    "For instance, if you are using a Mac, then you downloaded `Tennis.app`.  If this file is in the same folder as the notebook, then the line below should appear as follows:\n",
    "```\n",
    "env = UnityEnvironment(file_name=\"Tennis.app\")\n",
    "```"
   ]
  },
  {
   "cell_type": "code",
   "execution_count": 2,
   "metadata": {},
   "outputs": [
    {
     "name": "stderr",
     "output_type": "stream",
     "text": [
      "INFO:unityagents:\n",
      "'Academy' started successfully!\n",
      "Unity Academy name: Academy\n",
      "        Number of Brains: 1\n",
      "        Number of External Brains : 1\n",
      "        Lesson number : 0\n",
      "        Reset Parameters :\n",
      "\t\t\n",
      "Unity brain name: TennisBrain\n",
      "        Number of Visual Observations (per agent): 0\n",
      "        Vector Observation space type: continuous\n",
      "        Vector Observation space size (per agent): 8\n",
      "        Number of stacked Vector Observation: 3\n",
      "        Vector Action space type: continuous\n",
      "        Vector Action space size (per agent): 2\n",
      "        Vector Action descriptions: , \n"
     ]
    }
   ],
   "source": [
    "env = UnityEnvironment(file_name=\"Tennis.app\")"
   ]
  },
  {
   "cell_type": "markdown",
   "metadata": {},
   "source": [
    "Environments contain **_brains_** which are responsible for deciding the actions of their associated agents. Here we check for the first brain available, and set it as the default brain we will be controlling from Python."
   ]
  },
  {
   "cell_type": "code",
   "execution_count": 3,
   "metadata": {},
   "outputs": [],
   "source": [
    "# get the default brain\n",
    "brain_name = env.brain_names[0]\n",
    "brain = env.brains[brain_name]"
   ]
  },
  {
   "cell_type": "markdown",
   "metadata": {},
   "source": [
    "### 2. Examine the State and Action Spaces\n",
    "\n",
    "In this environment, two agents control rackets to bounce a ball over a net. If an agent hits the ball over the net, it receives a reward of +0.1.  If an agent lets a ball hit the ground or hits the ball out of bounds, it receives a reward of -0.01.  Thus, the goal of each agent is to keep the ball in play.\n",
    "\n",
    "The observation space consists of 8 variables corresponding to the position and velocity of the ball and racket. Two continuous actions are available, corresponding to movement toward (or away from) the net, and jumping. \n",
    "\n",
    "Run the code cell below to print some information about the environment."
   ]
  },
  {
   "cell_type": "code",
   "execution_count": 4,
   "metadata": {},
   "outputs": [
    {
     "name": "stdout",
     "output_type": "stream",
     "text": [
      "Number of agents: 2\n",
      "Size of each action: 2\n",
      "There are 2 agents. Each observes a state with length: 24\n",
      "The state for the first agent looks like: [ 0.          0.          0.          0.          0.          0.\n",
      "  0.          0.          0.          0.          0.          0.\n",
      "  0.          0.          0.          0.         -6.65278625 -1.5\n",
      " -0.          0.          6.83172083  6.         -0.          0.        ]\n"
     ]
    }
   ],
   "source": [
    "# reset the environment\n",
    "env_info = env.reset(train_mode=True)[brain_name]\n",
    "\n",
    "# number of agents \n",
    "num_agents = len(env_info.agents)\n",
    "print('Number of agents:', num_agents)\n",
    "\n",
    "# size of each action\n",
    "action_size = brain.vector_action_space_size\n",
    "print('Size of each action:', action_size)\n",
    "\n",
    "# examine the state space \n",
    "states = env_info.vector_observations\n",
    "state_size = states.shape[1]\n",
    "print('There are {} agents. Each observes a state with length: {}'.format(states.shape[0], state_size))\n",
    "print('The state for the first agent looks like:', states[0])"
   ]
  },
  {
   "cell_type": "markdown",
   "metadata": {},
   "source": [
    "### Project Solution\n",
    "The solution uses a Multiagent DDPG algorithm in maddpg_agent.py. \n",
    "\n",
    "We primarily use the DDPG algorithm with the following design decisions\n",
    "* Batch normalization for both actor and crtitic which was very important in making the learning tractable\n",
    "* we update the agent networks multiple times for each time step after episode 200 to speed up learning\n",
    "* We use the same OU noise for exploration - additionaly we needed a dampening factor of epsilon to have more exploration in the initial episodes. We discount episilon over 4000 episodes"
   ]
  },
  {
   "cell_type": "code",
   "execution_count": 5,
   "metadata": {},
   "outputs": [],
   "source": [
    "def ma_ddpg_run(n_episodes=200, max_t=5000, buffer_size=1e6, \n",
    "                batch_size=128, gamma=0.99, tau=1e-3, lr_actor=1e-3, lr_critic=1e-3, \n",
    "                weight_decay=0, update_frequency=1, eps_start=5):\n",
    "\n",
    "    # reset the environment\n",
    "    env_info = env.reset(train_mode=True)[brain_name]\n",
    "    num_agents = len(env_info.agents)\n",
    "    action_size = brain.vector_action_space_size\n",
    "    \n",
    "    agents = [Agent(state_size, action_size, num_agents=1, random_seed=1, replay_buffer_len=buffer_size,\n",
    "                    batch_size=batch_size, lr_actor=lr_actor, lr_critic=lr_critic, weight_decay=weight_decay,\n",
    "                    update_frequency=update_frequency, gamma=gamma, tau=tau, eps_start=eps_start, eps_end_episode=4000) for i in range(num_agents)]\n",
    "    \n",
    "\n",
    "    states = env_info.vector_observations\n",
    "    scores_hist_agent1 = []\n",
    "    scores_hist_agent2 = []\n",
    "    scores_window = deque(maxlen=100)\n",
    "    for i_episode in range(1, n_episodes+1):\n",
    "        states = np.reshape(env_info.vector_observations, (1,num_agents*state_size))\n",
    "        \n",
    "        for agent in agents:\n",
    "            agent.reset()\n",
    "        \n",
    "        scores = np.zeros(num_agents)\n",
    "        while True:\n",
    "            actions = [agent.act(states, add_noise=True, agent_id=ix) for ix,agent in enumerate(agents)]\n",
    "            actions = np.reshape(actions, (1, num_agents*action_size))\n",
    "            \n",
    "            env_info = env.step(actions)[brain_name]\n",
    "            next_states = np.reshape(env_info.vector_observations, (1,num_agents*state_size))\n",
    "            rewards = env_info.rewards\n",
    "            dones = env_info.local_done\n",
    "            scores += np.max(rewards)\n",
    "            \n",
    "            for i, agent in enumerate(agents):\n",
    "                agent.step(states, actions, rewards[i], next_states, dones, i, i_episode)\n",
    "            \n",
    "            states = next_states\n",
    "  \n",
    "            if np.any(dones):\n",
    "                env_info = env.reset(train_mode=True)[brain_name]\n",
    "                break    \n",
    "\n",
    "        scores_window.append(np.max(scores))  \n",
    "        scores_hist_agent1.append(scores[0]) \n",
    "        scores_hist_agent2.append(scores[1])\n",
    "        avg_score = np.mean(scores_window)\n",
    "        print('\\rEpisode {}\\tAverage Score: {:.4f} Agent Score: {:.4f}'.format(i_episode, avg_score, np.max(scores)), end=\"\")\n",
    "        \n",
    "        if avg_score >= 0.5: \n",
    "            print('Environment Solved in {} epidodes: Average score: {:.4f}', avg_score)\n",
    "            return agents, scores_hist_agent1, scores_hist_agent2, scores_window\n",
    "        \n",
    "        if i_episode % 100 == 0:\n",
    "            print('\\rEpisode {}\\tAverage Score: {:.4f} Agent Score: {:.4f}'.format(i_episode, np.mean(scores_window), np.max(scores)))\n",
    "    return agents, scores_hist_agent1, scores_hist_agent2, scores_window"
   ]
  },
  {
   "cell_type": "code",
   "execution_count": null,
   "metadata": {},
   "outputs": [],
   "source": []
  },
  {
   "cell_type": "code",
   "execution_count": 6,
   "metadata": {},
   "outputs": [
    {
     "name": "stdout",
     "output_type": "stream",
     "text": [
      "Episode 100\tAverage Score: 0.0130 Agent Score: 0.0000\n",
      "Episode 200\tAverage Score: 0.0600 Agent Score: 0.1000\n",
      "Episode 300\tAverage Score: 0.0769 Agent Score: 0.1000\n",
      "Episode 400\tAverage Score: 0.1020 Agent Score: 0.2000\n",
      "Episode 500\tAverage Score: 0.1689 Agent Score: 0.0000\n",
      "Episode 600\tAverage Score: 0.1870 Agent Score: 0.1000\n",
      "Episode 700\tAverage Score: 0.2220 Agent Score: 0.7000\n",
      "Episode 800\tAverage Score: 0.3939 Agent Score: 1.0000\n",
      "Episode 809\tAverage Score: 0.5169 Agent Score: 3.4000Environment Solved in {} epidodes: Average score: {:.4f} 0.516900007724762\n"
     ]
    }
   ],
   "source": [
    "multi_agents, s1, s2, sw = ma_ddpg_run(n_episodes=2000, buffer_size=1e6, lr_actor=1e-3, lr_critic=1e-3, \n",
    "                                   weight_decay=0, batch_size=128, update_frequency=1, tau=1e-2)"
   ]
  },
  {
   "cell_type": "code",
   "execution_count": null,
   "metadata": {},
   "outputs": [],
   "source": []
  },
  {
   "cell_type": "code",
   "execution_count": 8,
   "metadata": {},
   "outputs": [
    {
     "name": "stdout",
     "output_type": "stream",
     "text": [
      "Environment solved in 809 episodes with score 0.516900007724762\n"
     ]
    }
   ],
   "source": [
    "print(\"Environment solved in 809 episodes with score {}\".format(np.mean(sw)))"
   ]
  },
  {
   "cell_type": "code",
   "execution_count": null,
   "metadata": {},
   "outputs": [],
   "source": []
  },
  {
   "cell_type": "markdown",
   "metadata": {},
   "source": [
    "### Saving the results"
   ]
  },
  {
   "cell_type": "code",
   "execution_count": 14,
   "metadata": {},
   "outputs": [],
   "source": [
    "torch.save(multi_agents[0].actor_local.state_dict(), 'checkpoints/agent0_actor_local_weights.pth')\n",
    "torch.save(multi_agents[0].critic_local.state_dict(), 'checkpoints/agent0_critic_local_weights.pth')\n",
    "torch.save(multi_agents[0].actor_target.state_dict(), 'checkpoints/agent0_actor_target_weights.pth')\n",
    "torch.save(multi_agents[0].critic_target.state_dict(), 'checkpoints/agent0_critic_target_weights.pth')\n",
    "torch.save(multi_agents[1].actor_local.state_dict(), 'checkpoints/agent1_actor_local_weights.pth')\n",
    "torch.save(multi_agents[1].critic_local.state_dict(), 'checkpoints/agent1_critic_local_weights.pth')\n",
    "torch.save(multi_agents[1].actor_target.state_dict(), 'checkpoints/agent1_actor_target_weights.pth')\n",
    "torch.save(multi_agents[1].critic_target.state_dict(), 'checkpoints/agent1_critic_target_weights.pth')"
   ]
  },
  {
   "cell_type": "code",
   "execution_count": 21,
   "metadata": {},
   "outputs": [],
   "source": [
    "env.close()"
   ]
  },
  {
   "cell_type": "markdown",
   "metadata": {},
   "source": [
    "### Results"
   ]
  },
  {
   "cell_type": "code",
   "execution_count": 9,
   "metadata": {},
   "outputs": [],
   "source": [
    "score_window = deque(maxlen=100)\n",
    "moving_average = []\n",
    "for i1,i2 in zip(s1,s2):\n",
    "    score_window.append(max(i1,i2))\n",
    "    moving_average.append(np.mean(score_window))"
   ]
  },
  {
   "cell_type": "code",
   "execution_count": 16,
   "metadata": {},
   "outputs": [
    {
     "data": {
      "image/png": "[encoded data removed]",
      "text/plain": [
       "<Figure size 1008x432 with 1 Axes>"
      ]
     },
     "metadata": {
      "needs_background": "light"
     },
     "output_type": "display_data"
    }
   ],
   "source": [
    "plt.figure(figsize=(14,6) )\n",
    "plt.plot([max(i1,i2) for i1,i2 in zip(s1,s2)], label='max agent score')\n",
    "plt.plot(moving_average, label='Moving average', lw=5)\n",
    "plt.ylabel('Score')\n",
    "plt.xlabel('Episode #')\n",
    "plt.title(\"On policy score\")\n",
    "plt.legend()\n",
    "plt.savefig('plots/MADDPG_rewards.png')"
   ]
  },
  {
   "cell_type": "markdown",
   "metadata": {},
   "source": [
    "### Trained agents playing for 5 episodes"
   ]
  },
  {
   "cell_type": "code",
   "execution_count": 17,
   "metadata": {},
   "outputs": [
    {
     "name": "stdout",
     "output_type": "stream",
     "text": [
      "\n"
     ]
    }
   ],
   "source": [
    "for i in range(1, 6):                                      # play game for 5 episodes\n",
    "    env_info = env.reset(train_mode=False)[brain_name]     # reset the environment    \n",
    "    states = np.reshape(env_info.vector_observations, (1,num_agents*state_size))                  # get the current state (for each agent)\n",
    "    scores = np.zeros(num_agents)                          # initialize the score (for each agent)\n",
    "    while True:\n",
    "        actions = [agent.act(states, add_noise=False, agent_id=ix) for ix,agent in enumerate(multi_agents)]\n",
    "        actions = np.clip(actions, -1, 1)                  # all actions between -1 and 1\n",
    "        actions = np.reshape(actions, (1, num_agents*action_size))\n",
    "        env_info = env.step(actions)[brain_name]           # send all actions to tne environment\n",
    "        next_states = np.reshape(env_info.vector_observations, (1,num_agents*state_size))         # get next state (for each agent)\n",
    "        rewards = env_info.rewards                         # get reward (for each agent)\n",
    "        dones = env_info.local_done                        # see if episode finished\n",
    "        scores += env_info.rewards                         # update the score (for each agent)\n",
    "        states = next_states                               # roll over states to next time step\n",
    "        if np.any(dones):                                  # exit loop if episode finished\n",
    "            break"
   ]
  },
  {
   "cell_type": "code",
   "execution_count": null,
   "metadata": {},
   "outputs": [],
   "source": []
  },
  {
   "cell_type": "code",
   "execution_count": null,
   "metadata": {},
   "outputs": [],
   "source": []
  },
  {
   "cell_type": "code",
   "execution_count": null,
   "metadata": {},
   "outputs": [],
   "source": []
  },
  {
   "cell_type": "code",
   "execution_count": null,
   "metadata": {},
   "outputs": [],
   "source": []
  },
  {
   "cell_type": "code",
   "execution_count": null,
   "metadata": {},
   "outputs": [],
   "source": []
  },
  {
   "cell_type": "code",
   "execution_count": null,
   "metadata": {},
   "outputs": [],
   "source": []
  },
  {
   "cell_type": "code",
   "execution_count": null,
   "metadata": {},
   "outputs": [],
   "source": []
  },
  {
   "cell_type": "code",
   "execution_count": null,
   "metadata": {},
   "outputs": [],
   "source": []
  }
 ],
 "metadata": {
  "kernelspec": {
   "display_name": "Python 3",
   "language": "python",
   "name": "python3"
  },
  "language_info": {
   "codemirror_mode": {
    "name": "ipython",
    "version": 3
   },
   "file_extension": ".py",
   "mimetype": "text/x-python",
   "name": "python",
   "nbconvert_exporter": "python",
   "pygments_lexer": "ipython3",
   "version": "3.6.1"
  }
 },
 "nbformat": 4,
 "nbformat_minor": 2
}
