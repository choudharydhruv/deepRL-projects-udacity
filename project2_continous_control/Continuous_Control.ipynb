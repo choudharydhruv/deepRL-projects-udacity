{
 "cells": [
  {
   "cell_type": "markdown",
   "metadata": {},
   "source": [
    "# Continuous Control\n",
    "\n",
    "---\n",
    "\n",
    "In this notebook, you will learn how to use the Unity ML-Agents environment for the second project of the [Deep Reinforcement Learning Nanodegree](https://www.udacity.com/course/deep-reinforcement-learning-nanodegree--nd893) program.\n",
    "\n",
    "### 1. Start the Environment\n",
    "\n",
    "We begin by importing the necessary packages.  If the code cell below returns an error, please revisit the project instructions to double-check that you have installed [Unity ML-Agents](https://github.com/Unity-Technologies/ml-agents/blob/master/docs/Installation.md) and [NumPy](http://www.numpy.org/)."
   ]
  },
  {
   "cell_type": "code",
   "execution_count": 1,
   "metadata": {},
   "outputs": [],
   "source": [
    "import torch\n",
    "import numpy as np\n",
    "from collections import deque\n",
    "import matplotlib.pyplot as plt\n",
    "%matplotlib inline\n",
    "\n",
    "from unityagents import UnityEnvironment\n",
    "from agent import Agent, ReplayBuffer"
   ]
  },
  {
   "cell_type": "markdown",
   "metadata": {},
   "source": [
    "Next, we will start the environment!  **_Before running the code cell below_**, change the `file_name` parameter to match the location of the Unity environment that you downloaded.\n",
    "\n",
    "- **Mac**: `\"path/to/Reacher.app\"`\n",
    "- **Windows** (x86): `\"path/to/Reacher_Windows_x86/Reacher.exe\"`\n",
    "- **Windows** (x86_64): `\"path/to/Reacher_Windows_x86_64/Reacher.exe\"`\n",
    "- **Linux** (x86): `\"path/to/Reacher_Linux/Reacher.x86\"`\n",
    "- **Linux** (x86_64): `\"path/to/Reacher_Linux/Reacher.x86_64\"`\n",
    "- **Linux** (x86, headless): `\"path/to/Reacher_Linux_NoVis/Reacher.x86\"`\n",
    "- **Linux** (x86_64, headless): `\"path/to/Reacher_Linux_NoVis/Reacher.x86_64\"`\n",
    "\n",
    "For instance, if you are using a Mac, then you downloaded `Reacher.app`.  If this file is in the same folder as the notebook, then the line below should appear as follows:\n",
    "```\n",
    "env = UnityEnvironment(file_name=\"Reacher.app\")\n",
    "```"
   ]
  },
  {
   "cell_type": "code",
   "execution_count": 2,
   "metadata": {},
   "outputs": [
    {
     "name": "stderr",
     "output_type": "stream",
     "text": [
      "INFO:unityagents:\n",
      "'Academy' started successfully!\n",
      "Unity Academy name: Academy\n",
      "        Number of Brains: 1\n",
      "        Number of External Brains : 1\n",
      "        Lesson number : 0\n",
      "        Reset Parameters :\n",
      "\t\tgoal_speed -> 1.0\n",
      "\t\tgoal_size -> 5.0\n",
      "Unity brain name: ReacherBrain\n",
      "        Number of Visual Observations (per agent): 0\n",
      "        Vector Observation space type: continuous\n",
      "        Vector Observation space size (per agent): 33\n",
      "        Number of stacked Vector Observation: 1\n",
      "        Vector Action space type: continuous\n",
      "        Vector Action space size (per agent): 4\n",
      "        Vector Action descriptions: , , , \n"
     ]
    }
   ],
   "source": [
    "#env = UnityEnvironment(file_name='multi_agent/Reacher.app')\n",
    "env = UnityEnvironment(file_name='Reacher.app')"
   ]
  },
  {
   "cell_type": "markdown",
   "metadata": {},
   "source": [
    "Environments contain **_brains_** which are responsible for deciding the actions of their associated agents. Here we check for the first brain available, and set it as the default brain we will be controlling from Python."
   ]
  },
  {
   "cell_type": "code",
   "execution_count": 3,
   "metadata": {},
   "outputs": [],
   "source": [
    "# get the default brain\n",
    "brain_name = env.brain_names[0]\n",
    "brain = env.brains[brain_name]"
   ]
  },
  {
   "cell_type": "markdown",
   "metadata": {},
   "source": [
    "### 2. Examine the State and Action Spaces\n",
    "\n",
    "In this environment, a double-jointed arm can move to target locations. A reward of `+0.1` is provided for each step that the agent's hand is in the goal location. Thus, the goal of your agent is to maintain its position at the target location for as many time steps as possible.\n",
    "\n",
    "The observation space consists of `33` variables corresponding to position, rotation, velocity, and angular velocities of the arm.  Each action is a vector with four numbers, corresponding to torque applicable to two joints.  Every entry in the action vector must be a number between `-1` and `1`.\n",
    "\n",
    "Run the code cell below to print some information about the environment."
   ]
  },
  {
   "cell_type": "code",
   "execution_count": 4,
   "metadata": {},
   "outputs": [
    {
     "name": "stdout",
     "output_type": "stream",
     "text": [
      "Number of agents: 1\n",
      "Size of each action: 4\n",
      "There are 1 agents. Each observes a state with length: 33\n",
      "The state for the first agent looks like: [ 0.00000000e+00 -4.00000000e+00  0.00000000e+00  1.00000000e+00\n",
      " -0.00000000e+00 -0.00000000e+00 -4.37113883e-08  0.00000000e+00\n",
      "  0.00000000e+00  0.00000000e+00  0.00000000e+00  0.00000000e+00\n",
      "  0.00000000e+00  0.00000000e+00 -1.00000000e+01  0.00000000e+00\n",
      "  1.00000000e+00 -0.00000000e+00 -0.00000000e+00 -4.37113883e-08\n",
      "  0.00000000e+00  0.00000000e+00  0.00000000e+00  0.00000000e+00\n",
      "  0.00000000e+00  0.00000000e+00  5.75471878e+00 -1.00000000e+00\n",
      "  5.55726671e+00  0.00000000e+00  1.00000000e+00  0.00000000e+00\n",
      " -1.68164849e-01]\n"
     ]
    }
   ],
   "source": [
    "# reset the environment\n",
    "env_info = env.reset(train_mode=True)[brain_name]\n",
    "\n",
    "# number of agents\n",
    "num_agents = len(env_info.agents)\n",
    "print('Number of agents:', num_agents)\n",
    "\n",
    "# size of each action\n",
    "action_size = brain.vector_action_space_size\n",
    "print('Size of each action:', action_size)\n",
    "\n",
    "# examine the state space \n",
    "states = env_info.vector_observations\n",
    "state_size = states.shape[1]\n",
    "print('There are {} agents. Each observes a state with length: {}'.format(states.shape[0], state_size))\n",
    "print('The state for the first agent looks like:', states[0])"
   ]
  },
  {
   "cell_type": "markdown",
   "metadata": {},
   "source": [
    "# Project Solution\n",
    "\n",
    "The solution uses a DDPG agent implemented in agent.py. \n",
    "\n",
    "We primarily use the multi agent environment with the following design decisions\n",
    "* Gradient clipping for the critic network as descibed in the benchmark implementation at Udacity\n",
    "* we collect all experiences in a shared memory and then update the agent networks multiple times\n",
    "* We use a stochastic policy to decide the number of updates per epoch. On average we expect the agents to be updated every 10 epochs (np.random.randn() < 0.1)\n",
    "* We use the same OU noise for all the agents (exploration) - this is not ideal as this may support some symmetry between agents, but seems to work well in practice\n",
    "\n"
   ]
  },
  {
   "cell_type": "markdown",
   "metadata": {},
   "source": [
    "### Training"
   ]
  },
  {
   "cell_type": "code",
   "execution_count": 5,
   "metadata": {},
   "outputs": [],
   "source": [
    "def ddpg_run(n_episodes=200, max_t=5000, buffer_size=1e5, \n",
    "             batch_size=128, gamma=0.99, tau=1e-3, lr_actor=1e-4, lr_critic=1e-3, weight_decay=1e-4):\n",
    "\n",
    "    # reset the environment\n",
    "    env_info = env.reset(train_mode=True)[brain_name]\n",
    "    num_agents = len(env_info.agents)\n",
    "    \n",
    "    agent = Agent(state_size=33, action_size=4, random_seed=2, \n",
    "                  replay_buffer_len=buffer_size, batch_size=batch_size, \n",
    "                  gamma=gamma, tau=tau, lr_actor=lr_actor, lr_critic=lr_critic, \n",
    "                  weight_decay=weight_decay)\n",
    "\n",
    "    \n",
    "    if num_agents > 1:\n",
    "        shared_memory = ReplayBuffer(4, int(buffer_size), batch_size, 2)\n",
    "    \n",
    "    states = env_info.vector_observations\n",
    "    actions = [agent.act(states[ix]) for ix in range(num_agents)]\n",
    "    \n",
    "    scores_hist = []                        \n",
    "    scores_window = deque(maxlen=100)  # last 100 scores\n",
    "    for i_episode in range(1, n_episodes+1):\n",
    "        states = env_info.vector_observations\n",
    "        \n",
    "        #for ag in agent_list:\n",
    "        #    ag.reset()\n",
    "        agent.reset()\n",
    "        \n",
    "        scores = np.zeros(num_agents)\n",
    "        for t in range(max_t):\n",
    "            actions = [agent.act(states[ix]) for ix in range(num_agents)]\n",
    "            \n",
    "            env_info = env.step(actions)[brain_name]\n",
    "            next_states = env_info.vector_observations\n",
    "            rewards = env_info.rewards\n",
    "            dones = env_info.local_done\n",
    "            scores += rewards #Adding up all rewards without discounting for evaluation\n",
    "            \n",
    "            damp = 1#max(40-np.mean(scores), 1)/40.0\n",
    "            if num_agents == 1:\n",
    "                for s,a,r,ns,d in zip(states, actions, rewards, next_states, dones):\n",
    "                    agent.step(s, a, r, ns, d, damp)\n",
    "            else:\n",
    "                for s,a,r,ns,d in zip(states, actions, rewards, next_states, dones):\n",
    "                    shared_memory.add(s, a, r, ns, d)\n",
    "                for ix in range(10):\n",
    "                    if len(shared_memory) > batch_size and np.random.randn() < 0.1: #stochastic update\n",
    "                        _experiences = shared_memory.sample()\n",
    "                        agent.step_sharedmemory(_experiences)\n",
    "            \n",
    "            states = next_states\n",
    "  \n",
    "            if np.any(dones):\n",
    "                env_info = env.reset(train_mode=True)[brain_name]\n",
    "                break    \n",
    "\n",
    "        #Averaging across all agents before adding to moving window\n",
    "        scores_window.append(np.mean(scores))       # save most recent score\n",
    "        scores_hist.append(np.mean(scores))         # save most recent score\n",
    "        print('\\rEpisode {}\\tAverage Score: {:.2f}'.format(i_episode, np.mean(scores_window)), end=\"\")\n",
    "        if i_episode % 100 == 0:\n",
    "            #print(actions)\n",
    "            print('\\rEpisode {}\\tAverage Score: {:.2f}'.format(i_episode, np.mean(scores_window)))\n",
    "    return agent, scores_hist"
   ]
  },
  {
   "cell_type": "markdown",
   "metadata": {},
   "source": [
    "##### Multi agent training run"
   ]
  },
  {
   "cell_type": "code",
   "execution_count": 8,
   "metadata": {},
   "outputs": [
    {
     "name": "stdout",
     "output_type": "stream",
     "text": [
      "Episode 100\tAverage Score: 24.23\n",
      "Episode 200\tAverage Score: 35.49\n"
     ]
    }
   ],
   "source": [
    "agent_ddpg_multi, scores_ddpg_multi = ddpg_run(n_episodes=200, buffer_size=1e6, lr_critic=1e-4, weight_decay=0)"
   ]
  },
  {
   "cell_type": "markdown",
   "metadata": {},
   "source": [
    "##### Single agent training run"
   ]
  },
  {
   "cell_type": "code",
   "execution_count": 6,
   "metadata": {},
   "outputs": [
    {
     "name": "stdout",
     "output_type": "stream",
     "text": [
      "Episode 100\tAverage Score: 1.71\n",
      "Episode 200\tAverage Score: 4.24\n",
      "Episode 300\tAverage Score: 6.86\n",
      "Episode 400\tAverage Score: 7.52\n",
      "Episode 500\tAverage Score: 8.35\n",
      "Episode 600\tAverage Score: 9.17\n"
     ]
    }
   ],
   "source": [
    "agent_ddpg_single, scores_ddpg_single = ddpg_run(n_episodes=600, buffer_size=1e6, lr_critic=1e-4, weight_decay=0)"
   ]
  },
  {
   "cell_type": "code",
   "execution_count": null,
   "metadata": {},
   "outputs": [],
   "source": []
  },
  {
   "cell_type": "markdown",
   "metadata": {},
   "source": [
    "### Saving the results"
   ]
  },
  {
   "cell_type": "code",
   "execution_count": 12,
   "metadata": {},
   "outputs": [],
   "source": [
    "torch.save(agent_ddpg_multi.actor_local.state_dict(), 'checkpoints/agent_ddpg_multi_actor_local_weights.pth')\n",
    "torch.save(agent_ddpg_multi.critic_local.state_dict(), 'checkpoints/agent_ddpg_multi_critic_local_weights.pth')\n",
    "torch.save(agent_ddpg_multi.actor_target.state_dict(), 'checkpoints/agent_ddpg_multi_actor_target_weights.pth')\n",
    "torch.save(agent_ddpg_multi.critic_target.state_dict(), 'checkpoints/agent_ddpg_multi_critic_target_weights.pth')"
   ]
  },
  {
   "cell_type": "code",
   "execution_count": 21,
   "metadata": {},
   "outputs": [],
   "source": [
    "with open('scores_ddpg_multi.txt', 'w') as f:\n",
    "    for item in scores_ddpg_multi:\n",
    "        f.write(\"%s\\n\" % item)"
   ]
  },
  {
   "cell_type": "code",
   "execution_count": 14,
   "metadata": {},
   "outputs": [],
   "source": [
    "with open('scores_ddpg_single.txt', 'w') as f:\n",
    "    for item in scores_ddpg_multi:\n",
    "        f.write(\"%s\\n\" % item)\n",
    "        \n",
    "torch.save(agent_ddpg_single.actor_local.state_dict(), 'checkpoints/agent_ddpg_single_actor_local_weights.pth')\n",
    "torch.save(agent_ddpg_single.critic_local.state_dict(), 'checkpoints/agent_ddpg_single_critic_local_weights.pth')\n",
    "torch.save(agent_ddpg_single.actor_target.state_dict(), 'checkpoints/agent_ddpg_single_actor_target_weights.pth')\n",
    "torch.save(agent_ddpg_single.critic_target.state_dict(), 'checkpoints/agent_ddpg_single_critic_target_weights.pth')"
   ]
  },
  {
   "cell_type": "code",
   "execution_count": 5,
   "metadata": {},
   "outputs": [],
   "source": [
    "env.close()"
   ]
  },
  {
   "cell_type": "markdown",
   "metadata": {},
   "source": [
    "### Results"
   ]
  },
  {
   "cell_type": "code",
   "execution_count": 13,
   "metadata": {},
   "outputs": [
    {
     "data": {
      "image/png": "[encoded data removed]",
      "text/plain": [
       "<Figure size 1008x432 with 1 Axes>"
      ]
     },
     "metadata": {
      "needs_background": "light"
     },
     "output_type": "display_data"
    }
   ],
   "source": [
    "plt.figure(figsize=(14,6) )\n",
    "plt.plot(scores_ddpg_multi, label='Multi agent score')\n",
    "plt.plot(scores_ddpg_single, label='Single agent score')\n",
    "plt.ylabel('Score')\n",
    "plt.xlabel('Episode #')\n",
    "plt.title(\"On policy score\")\n",
    "plt.legend()\n",
    "plt.show()"
   ]
  },
  {
   "cell_type": "markdown",
   "metadata": {},
   "source": [
    "### Off policy score for multi-agent training"
   ]
  },
  {
   "cell_type": "code",
   "execution_count": 5,
   "metadata": {},
   "outputs": [
    {
     "name": "stdout",
     "output_type": "stream",
     "text": [
      "Average Score of this episode: 35.59999920427799\n"
     ]
    }
   ],
   "source": [
    "agent_new = Agent(state_size=33, action_size=4, random_seed=2, \n",
    "                  replay_buffer_len=1e5, batch_size=128, \n",
    "                  gamma=0.99, tau=1e-3, lr_actor=1e-4, lr_critic=1e-4, \n",
    "                  weight_decay=0)\n",
    "agent_new.actor_local.load_state_dict(torch.load('checkpoints/agent_ddpg_multi_actor_local_weights.pth'))\n",
    "\n",
    "env_info = env.reset(train_mode=False)[brain_name] # reset the environment\n",
    "states = env_info.vector_observations            # get the current state\n",
    "score = 0                                          # initialize the score\n",
    "\n",
    "while True:\n",
    "    actions = agent_new.act(states,add_noise=False)                         # agent's action\n",
    "    env_info = env.step(actions)[brain_name]           # send all actions to tne environment\n",
    "    next_states = env_info.vector_observations         # get next state (for each agent)\n",
    "    rewards = env_info.rewards[0]                         # get reward (for each agent)\n",
    "    dones = env_info.local_done[0]                        # see if episode finished\n",
    "    score += env_info.rewards[0]                         # update the score (for each agent)\n",
    "    states = next_states                               # roll over states to next time step\n",
    "    if np.any(dones):                                  # exit loop if episode finished\n",
    "        env.close()\n",
    "        break\n",
    "print('Average Score of this episode: {}'.format(np.mean(score)))"
   ]
  },
  {
   "cell_type": "code",
   "execution_count": null,
   "metadata": {},
   "outputs": [],
   "source": []
  },
  {
   "cell_type": "code",
   "execution_count": null,
   "metadata": {},
   "outputs": [],
   "source": []
  },
  {
   "cell_type": "code",
   "execution_count": null,
   "metadata": {},
   "outputs": [],
   "source": []
  },
  {
   "cell_type": "code",
   "execution_count": null,
   "metadata": {},
   "outputs": [],
   "source": []
  },
  {
   "cell_type": "code",
   "execution_count": null,
   "metadata": {},
   "outputs": [],
   "source": []
  },
  {
   "cell_type": "code",
   "execution_count": null,
   "metadata": {},
   "outputs": [],
   "source": []
  },
  {
   "cell_type": "code",
   "execution_count": null,
   "metadata": {},
   "outputs": [],
   "source": []
  }
 ],
 "metadata": {
  "kernelspec": {
   "display_name": "Python 3",
   "language": "python",
   "name": "python3"
  },
  "language_info": {
   "codemirror_mode": {
    "name": "ipython",
    "version": 3
   },
   "file_extension": ".py",
   "mimetype": "text/x-python",
   "name": "python",
   "nbconvert_exporter": "python",
   "pygments_lexer": "ipython3",
   "version": "3.6.1"
  }
 },
 "nbformat": 4,
 "nbformat_minor": 2
}
